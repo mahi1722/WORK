{
 "cells": [
  {
   "cell_type": "code",
   "execution_count": 4,
   "metadata": {},
   "outputs": [],
   "source": [
    "# Import required libraries\n",
    "from langchain_groq import ChatGroq\n",
    "from langgraph.prebuilt import create_react_agent\n",
    "from langgraph_supervisor import create_supervisor\n",
    "\n",
    "# Groq model initialization\n",
    "GROQ_API_KEY = \"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\"\n",
    "model = ChatGroq(\n",
    "    api_key=GROQ_API_KEY,\n",
    "    model=\"llama-3.2-3b-preview\",\n",
    ")"
   ]
  },
  {
   "cell_type": "code",
   "execution_count": 5,
   "metadata": {},
   "outputs": [],
   "source": [
    "# Tools for AD Agent\n",
    "def assign_user_to_sg(user: str, sg: str) -> str:\n",
    "    \"\"\"Assign a user to a security group.\"\"\"\n",
    "    return f\"Assigned user {user} to security group {sg}\"\n",
    "\n",
    "def validate_user(user: str) -> str:\n",
    "    \"\"\"Validate a user in Active Directory.\"\"\"\n",
    "    return f\"Validated user {user}\"\n",
    "\n",
    "def construct_upn(user: str) -> str:\n",
    "    \"\"\"Construct a User Principal Name (UPN).\"\"\"\n",
    "    return f\"Constructed UPN for {user}: {user}@domain.com\"\n",
    "\n",
    "# Tools for M365 Agent\n",
    "def create_dl(dl_name: str) -> str:\n",
    "    \"\"\"Create a distribution list in Microsoft 365.\"\"\"\n",
    "    return f\"Created distribution list {dl_name}\"\n",
    "\n",
    "def delete_dl(dl_name: str) -> str:\n",
    "    \"\"\"Delete a distribution list in Microsoft 365.\"\"\"\n",
    "    return f\"Deleted distribution list {dl_name}\"\n",
    "\n",
    "def assign_license(user: str, license: str) -> str:\n",
    "    \"\"\"Assign a license to a user in Microsoft 365.\"\"\"\n",
    "    return f\"Assigned {license} license to {user}\"\n",
    "\n",
    "def create_shared_mailbox(mailbox_name: str) -> str:\n",
    "    \"\"\"Create a shared mailbox in Microsoft 365.\"\"\"\n",
    "    return f\"Created shared mailbox {mailbox_name}\"\n",
    "\n",
    "def modify_shared_mailbox(mailbox_name: str, action: str) -> str:\n",
    "    \"\"\"Modify a shared mailbox in Microsoft 365.\"\"\"\n",
    "    return f\"Modified shared mailbox {mailbox_name} with action {action}\"\n",
    "\n",
    "# Tools for DB Restart Agent\n",
    "def restart_db(db_name: str) -> str:\n",
    "    \"\"\"Restart a database.\"\"\"\n",
    "    return f\"Restarted database {db_name}\""
   ]
  },
  {
   "cell_type": "code",
   "execution_count": 6,
   "metadata": {},
   "outputs": [],
   "source": [
    "\n",
    "# Create AD Agent\n",
    "ad_agent = create_react_agent(\n",
    "    model=model,\n",
    "    tools=[assign_user_to_sg, validate_user, construct_upn],\n",
    "    name=\"ad_expert\",\n",
    "    prompt=\"You are an Active Directory expert. Use the provided tools to handle AD-related tasks such as assigning users to security groups, validating users, or constructing UPNs. Use one tool at a time.\"\n",
    ")\n",
    "\n",
    "# Create M365 Agent\n",
    "m365_agent = create_react_agent(\n",
    "    model=model,\n",
    "    tools=[create_dl, delete_dl, assign_license, create_shared_mailbox, modify_shared_mailbox],\n",
    "    name=\"m365_expert\",\n",
    "    prompt=\"You are a Microsoft 365 expert. Use the provided tools to handle M365-related tasks such as creating or deleting distribution lists, assigning licenses, or managing shared mailboxes. Use one tool at a time.\"\n",
    ")\n",
    "\n",
    "# Create DB Restart Agent\n",
    "db_restart_agent = create_react_agent(\n",
    "    model=model,\n",
    "    tools=[restart_db],\n",
    "    name=\"db_restart_expert\",\n",
    "    prompt=\"You are a database management expert. Use the provided tools to handle database-related tasks such as restarting a database. Use one tool at a time.\"\n",
    ")"
   ]
  },
  {
   "cell_type": "code",
   "execution_count": 7,
   "metadata": {},
   "outputs": [],
   "source": [
    "from langgraph_supervisor import create_supervisor\n",
    "\n",
    "# Create supervisor workflow\n",
    "workflow = create_supervisor(\n",
    "    [ad_agent, m365_agent, db_restart_agent],\n",
    "    model=model,\n",
    "    prompt=(\n",
    "        \"You are a team supervisor managing an Active Directory expert (ad_expert), a Microsoft 365 expert (m365_expert), and a database management expert (db_restart_expert). \"\n",
    "        \"Route queries to the appropriate agent based on the task: \"\n",
    "        \"For Active Directory tasks (e.g., user assignment, validation, UPN construction), use ad_expert. \"\n",
    "        \"For Microsoft 365 tasks (e.g., distribution lists, licenses, shared mailboxes), use m365_expert. \"\n",
    "        \"For database tasks (e.g., restarting a database), use db_restart_expert.\"\n",
    "    )\n",
    ")"
   ]
  },
  {
   "cell_type": "code",
   "execution_count": 11,
   "metadata": {},
   "outputs": [
    {
     "name": "stdout",
     "output_type": "stream",
     "text": [
      "<function=transfer_to_ad_expert>{\"username\": \"example_user\", \"groupname\": \"SG\"}\n"
     ]
    }
   ],
   "source": [
    "# Compile the workflow\n",
    "app = workflow.compile()\n",
    "\n",
    "# Invoke the workflow with a query\n",
    "result = app.invoke({\n",
    "    \"messages\": [\n",
    "        {\n",
    "            \"role\": \"user\",\n",
    "            \"content\": \"Assign user to SG\"\n",
    "        }\n",
    "    ]\n",
    "})\n",
    "\n",
    "# Print the result\n",
    "print(result[\"messages\"][-1].content)"
   ]
  },
  {
   "cell_type": "code",
   "execution_count": null,
   "metadata": {},
   "outputs": [],
   "source": []
  }
 ],
 "metadata": {
  "kernelspec": {
   "display_name": "venv",
   "language": "python",
   "name": "python3"
  },
  "language_info": {
   "codemirror_mode": {
    "name": "ipython",
    "version": 3
   },
   "file_extension": ".py",
   "mimetype": "text/x-python",
   "name": "python",
   "nbconvert_exporter": "python",
   "pygments_lexer": "ipython3",
   "version": "3.12.6"
  }
 },
 "nbformat": 4,
 "nbformat_minor": 2
}
